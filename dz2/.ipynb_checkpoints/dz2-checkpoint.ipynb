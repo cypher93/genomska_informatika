{
 "cells": [
  {
   "cell_type": "code",
   "execution_count": 2,
   "metadata": {
    "scrolled": true
   },
   "outputs": [
    {
     "name": "stdout",
     "output_type": "stream",
     "text": [
      "Total number of reads: 2921629\n",
      "Total number of unmapped reads: 17765\n",
      "Total number of reads with quality equal to 0: 126628\n",
      "Average mapping quality for all the reads: 55.91379158681681\n",
      "Average mapping quality for all reads except zero-quality reads: 58.446975510921106\n"
     ]
    }
   ],
   "source": [
    "import pysam\n",
    "\n",
    "\n",
    "unmapped_reads = 0\n",
    "total_reads = 0\n",
    "num_zero_quality_reads = 0\n",
    "map_quality_sum = 0\n",
    "avg_map_quality = 0\n",
    "avg_map_quality_non_zero = 0\n",
    "\n",
    "bam_file = pysam.AlignmentFile(r\"merged-tumor.bam\")\n",
    "\n",
    "for read in bam_file:\n",
    "    total_reads += 1\n",
    "    if read.is_unmapped:\n",
    "        unmapped_reads += 1\n",
    "\n",
    "    if read.mapping_quality == 0:\n",
    "        num_zero_quality_reads += 1\n",
    "    \n",
    "    map_quality_sum += read.mapping_quality\n",
    "\n",
    "print(r\"Total number of reads: \" + str(total_reads))\n",
    "print(r\"Total number of unmapped reads: \" + str(unmapped_reads))\n",
    "print(r\"Total number of reads with quality equal to 0: \" + str(num_zero_quality_reads))\n",
    "avg_map_quality_non_zero = map_quality_sum / (total_reads - num_zero_quality_reads)\n",
    "avg_map_quality = map_quality_sum / total_reads\n",
    "print(r\"Average mapping quality for all the reads: \" + str(avg_map_quality))\n",
    "print(r\"Average mapping quality for all reads except zero-quality reads: \" + str(avg_map_quality_non_zero))"
   ]
  }
 ],
 "metadata": {
  "kernelspec": {
   "display_name": "Python 3",
   "language": "python",
   "name": "python3"
  },
  "language_info": {
   "codemirror_mode": {
    "name": "ipython",
    "version": 3
   },
   "file_extension": ".py",
   "mimetype": "text/x-python",
   "name": "python",
   "nbconvert_exporter": "python",
   "pygments_lexer": "ipython3",
   "version": "3.8.5"
  }
 },
 "nbformat": 4,
 "nbformat_minor": 4
}
